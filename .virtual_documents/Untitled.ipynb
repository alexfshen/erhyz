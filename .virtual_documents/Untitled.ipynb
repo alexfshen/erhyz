from flask import Flask

app = Flask(__name__)


app.template_folder = 'html'


app._static_folder


app.default_config


app.config


dir(app)
